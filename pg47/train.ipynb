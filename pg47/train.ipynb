{
 "cells": [
  {
   "cell_type": "code",
   "execution_count": 1,
   "id": "a51b54db",
   "metadata": {
    "_cell_guid": "b1076dfc-b9ad-4769-8c92-a6c4dae69d19",
    "_uuid": "8f2839f25d086af736a60e9eeb907d3b93b6e0e5",
    "execution": {
     "iopub.execute_input": "2024-07-31T23:06:39.670214Z",
     "iopub.status.busy": "2024-07-31T23:06:39.669487Z",
     "iopub.status.idle": "2024-07-31T23:06:40.406464Z",
     "shell.execute_reply": "2024-07-31T23:06:40.405626Z"
    },
    "papermill": {
     "duration": 0.744813,
     "end_time": "2024-07-31T23:06:40.408990",
     "exception": false,
     "start_time": "2024-07-31T23:06:39.664177",
     "status": "completed"
    },
    "tags": []
   },
   "outputs": [
    {
     "name": "stdout",
     "output_type": "stream",
     "text": [
      "/kaggle/input/health-insurance-cross-sell-prediction-data/train.csv\n",
      "/kaggle/input/health-insurance-cross-sell-prediction-data/test.csv\n",
      "/kaggle/input/playground-series-s4e7/sample_submission.csv\n",
      "/kaggle/input/playground-series-s4e7/train.csv\n",
      "/kaggle/input/playground-series-s4e7/test.csv\n"
     ]
    }
   ],
   "source": [
    "# This Python 3 environment comes with many helpful analytics libraries installed\n",
    "# It is defined by the kaggle/python Docker image: https://github.com/kaggle/docker-python\n",
    "# For example, here's several helpful packages to load\n",
    "\n",
    "import numpy as np # linear algebra\n",
    "import pandas as pd # data processing, CSV file I/O (e.g. pd.read_csv)\n",
    "\n",
    "# Input data files are available in the read-only \"../input/\" directory\n",
    "# For example, running this (by clicking run or pressing Shift+Enter) will list all files under the input directory\n",
    "\n",
    "import os\n",
    "for dirname, _, filenames in os.walk('/kaggle/input'):\n",
    "    for filename in filenames:\n",
    "        print(os.path.join(dirname, filename))\n",
    "\n",
    "# You can write up to 20GB to the current directory (/kaggle/working/) that gets preserved as output when you create a version using \"Save & Run All\" \n",
    "# You can also write temporary files to /kaggle/temp/, but they won't be saved outside of the current session"
   ]
  },
  {
   "cell_type": "code",
   "execution_count": 2,
   "id": "f535c8dc",
   "metadata": {
    "execution": {
     "iopub.execute_input": "2024-07-31T23:06:40.417726Z",
     "iopub.status.busy": "2024-07-31T23:06:40.416884Z",
     "iopub.status.idle": "2024-07-31T23:07:16.656506Z",
     "shell.execute_reply": "2024-07-31T23:07:16.655710Z"
    },
    "papermill": {
     "duration": 36.246042,
     "end_time": "2024-07-31T23:07:16.658905",
     "exception": false,
     "start_time": "2024-07-31T23:06:40.412863",
     "status": "completed"
    },
    "tags": []
   },
   "outputs": [],
   "source": [
    "import pandas as pd\n",
    "import numpy as np\n",
    "\n",
    "train = pd.DataFrame(pd.read_csv(\"/kaggle/input/playground-series-s4e7/train.csv\"))\n",
    "test = pd.DataFrame(pd.read_csv(\"/kaggle/input/playground-series-s4e7/test.csv\"))\n",
    "submission = pd.DataFrame(pd.read_csv(\"/kaggle/input/playground-series-s4e7/sample_submission.csv\"))\n",
    "origin_train = pd.DataFrame(pd.read_csv('/kaggle/input/health-insurance-cross-sell-prediction-data/train.csv'))"
   ]
  },
  {
   "cell_type": "code",
   "execution_count": 3,
   "id": "3fbc24a8",
   "metadata": {
    "execution": {
     "iopub.execute_input": "2024-07-31T23:07:16.666669Z",
     "iopub.status.busy": "2024-07-31T23:07:16.666369Z",
     "iopub.status.idle": "2024-07-31T23:07:17.581136Z",
     "shell.execute_reply": "2024-07-31T23:07:17.580342Z"
    },
    "papermill": {
     "duration": 0.92123,
     "end_time": "2024-07-31T23:07:17.583536",
     "exception": false,
     "start_time": "2024-07-31T23:07:16.662306",
     "status": "completed"
    },
    "tags": []
   },
   "outputs": [],
   "source": [
    "train = pd.concat([train,origin_train])"
   ]
  },
  {
   "cell_type": "code",
   "execution_count": 4,
   "id": "8f4e6e08",
   "metadata": {
    "execution": {
     "iopub.execute_input": "2024-07-31T23:07:17.591562Z",
     "iopub.status.busy": "2024-07-31T23:07:17.591279Z",
     "iopub.status.idle": "2024-07-31T23:07:17.605861Z",
     "shell.execute_reply": "2024-07-31T23:07:17.605146Z"
    },
    "papermill": {
     "duration": 0.020684,
     "end_time": "2024-07-31T23:07:17.607688",
     "exception": false,
     "start_time": "2024-07-31T23:07:17.587004",
     "status": "completed"
    },
    "tags": []
   },
   "outputs": [],
   "source": [
    "def reduce_memory_usage(df):\n",
    "    for col in df.columns:\n",
    "        col_type = df[col].dtype\n",
    "\n",
    "        if col_type != object:\n",
    "            c_min = df[col].min()\n",
    "            c_max = df[col].max()\n",
    "            \n",
    "            if str(col_type)[:3] == 'int':\n",
    "                if c_min > np.iinfo(np.int8).min and c_max < np.iinfo(np.int8).max:\n",
    "                    df[col] = df[col].astype(np.int8)\n",
    "                elif c_min > np.iinfo(np.int16).min and c_max < np.iinfo(np.int16).max:\n",
    "                    df[col] = df[col].astype(np.int16)\n",
    "                elif c_min > np.iinfo(np.int32).min and c_max < np.iinfo(np.int32).max:\n",
    "                    df[col] = df[col].astype(np.int32)\n",
    "                elif c_min > np.iinfo(np.int64).min and c_max < np.iinfo(np.int64).max:\n",
    "                    df[col] = df[col].astype(np.int64)\n",
    "    return df\n",
    "\n",
    "def preprocess_data(df):\n",
    "    df['Previously_Insured_Annual_Premium'] = pd.factorize(df['Previously_Insured'].astype(str) + df['Annual_Premium'].astype(str))[0]\n",
    "    df['Previously_Insured_Vehicle_Age'] = pd.factorize(df['Previously_Insured'].astype(str) + df['Vehicle_Age'].astype(str))[0]\n",
    "    df['Previously_Insured_Vehicle_Damage'] = pd.factorize(df['Previously_Insured'].astype(str) + df['Vehicle_Damage'].astype(str))[0]\n",
    "    df['Previously_Insured_Vintage'] = pd.factorize(df['Previously_Insured'].astype(str) + df['Vintage'].astype(str))[0]\n",
    "    \n",
    "    # 'id' 컬럼이 있을 경우 삭제\n",
    "    if 'id' in df.columns:\n",
    "        df = df.drop(columns=['id'])\n",
    "    \n",
    "    # 데이터 타입 변환\n",
    "    df['Region_Code'] = df['Region_Code'].astype(int)\n",
    "    df['Policy_Sales_Channel'] = df['Policy_Sales_Channel'].astype(int)\n",
    "    df['Annual_Premium'] = df['Annual_Premium'].astype(int)\n",
    "    \n",
    "    for col in df.columns:\n",
    "        if df[col].dtype == bool:\n",
    "            df[col] = df[col].astype(int)\n",
    "    \n",
    "    df['Gender'] = df['Gender'].map({'Male': 1, 'Female': 0})\n",
    "    df['Vehicle_Age'] = df['Vehicle_Age'].map({'> 2 Years': 2, '1-2 Year': 1, '< 1 Year': 0})\n",
    "    df['Vehicle_Damage'] = df['Vehicle_Damage'].map({'Yes': 1, 'No': 0})\n",
    "    \n",
    "    df = reduce_memory_usage(df)\n",
    "    \n",
    "    return df"
   ]
  },
  {
   "cell_type": "code",
   "execution_count": 5,
   "id": "26f2270e",
   "metadata": {
    "execution": {
     "iopub.execute_input": "2024-07-31T23:07:17.614991Z",
     "iopub.status.busy": "2024-07-31T23:07:17.614738Z",
     "iopub.status.idle": "2024-07-31T23:08:42.548195Z",
     "shell.execute_reply": "2024-07-31T23:08:42.547191Z"
    },
    "papermill": {
     "duration": 84.940003,
     "end_time": "2024-07-31T23:08:42.550846",
     "exception": false,
     "start_time": "2024-07-31T23:07:17.610843",
     "status": "completed"
    },
    "tags": []
   },
   "outputs": [],
   "source": [
    "train = preprocess_data(train)\n",
    "test = preprocess_data(test)"
   ]
  },
  {
   "cell_type": "code",
   "execution_count": 6,
   "id": "211dfa6a",
   "metadata": {
    "execution": {
     "iopub.execute_input": "2024-07-31T23:08:42.559153Z",
     "iopub.status.busy": "2024-07-31T23:08:42.558838Z",
     "iopub.status.idle": "2024-07-31T23:08:42.563660Z",
     "shell.execute_reply": "2024-07-31T23:08:42.562827Z"
    },
    "papermill": {
     "duration": 0.010851,
     "end_time": "2024-07-31T23:08:42.565473",
     "exception": false,
     "start_time": "2024-07-31T23:08:42.554622",
     "status": "completed"
    },
    "tags": []
   },
   "outputs": [],
   "source": [
    "cat_features = list(train.columns.values)\n",
    "remove_list = ['Age','Annual_Premium','Vintage','Vehicle_Age','Response']\n",
    "for i in remove_list:\n",
    "    cat_features.remove(i)"
   ]
  },
  {
   "cell_type": "code",
   "execution_count": 7,
   "id": "e9e29706",
   "metadata": {
    "execution": {
     "iopub.execute_input": "2024-07-31T23:08:42.572720Z",
     "iopub.status.busy": "2024-07-31T23:08:42.572431Z"
    },
    "papermill": {
     "duration": 1814.450406,
     "end_time": "2024-07-31T23:38:57.018926",
     "exception": false,
     "start_time": "2024-07-31T23:08:42.568520",
     "status": "completed"
    },
    "tags": []
   },
   "outputs": [
    {
     "name": "stdout",
     "output_type": "stream",
     "text": [
      "0:\tlearn: 0.6085881\ttest: 0.6081490\tbest: 0.6081490 (0)\ttotal: 6.46s\tremaining: 2h 41m 16s\n",
      "500:\tlearn: 0.2435909\ttest: 0.2407489\tbest: 0.2407489 (500)\ttotal: 8m 25s\tremaining: 16m 48s\n",
      "1000:\tlearn: 0.2428963\ttest: 0.2401716\tbest: 0.2401716 (1000)\ttotal: 16m 53s\tremaining: 8m 25s\n",
      "1499:\tlearn: 0.2425411\ttest: 0.2399265\tbest: 0.2399265 (1499)\ttotal: 25m 13s\tremaining: 0us\n",
      "bestTest = 0.2399265023\n",
      "bestIteration = 1499\n"
     ]
    }
   ],
   "source": [
    "from catboost import CatBoostClassifier, Pool\n",
    "import pandas as pd\n",
    "import numpy as np\n",
    "from sklearn.metrics import accuracy_score, recall_score, precision_score, f1_score, roc_auc_score\n",
    "from sklearn.model_selection import train_test_split\n",
    "import gc\n",
    "\n",
    "random_state = 777\n",
    "num_dataset = 0\n",
    "\n",
    "# 데이터 로드 및 변환\n",
    "features = train.drop(columns=['Response'])\n",
    "target = train['Response']\n",
    "\n",
    "# CatBoost는 CatFeatures를 문자열로 변환해야 합니다.\n",
    "for col in cat_features:\n",
    "    features[col] = features[col].astype(str)\n",
    "    test[col] = test[col].astype(str)\n",
    "\n",
    "# 학습 데이터와 검증 데이터 분리\n",
    "X_train, X_val, y_train, y_val = train_test_split(features, target, test_size=0.01, stratify=target, random_state=random_state)\n",
    "\n",
    "train_pool = Pool(X_train, y_train, cat_features=cat_features)\n",
    "valid_pool = Pool(X_val, y_val, cat_features=cat_features)\n",
    "\n",
    "del features, target, X_train, y_train, train\n",
    "gc.collect()\n",
    "\n",
    "# CatBoost 모델 설정\n",
    "model = CatBoostClassifier(\n",
    "    loss_function='Logloss',\n",
    "    eval_metric='Logloss',\n",
    "    learning_rate=0.05,\n",
    "    iterations=1500,\n",
    "    fold_permutation_block=1,\n",
    "    random_strength=0,\n",
    "    l2_leaf_reg=5,\n",
    "    task_type='GPU',\n",
    "    random_seed=random_state,\n",
    "    verbose=500,\n",
    "    allow_writing_files=False\n",
    ")\n",
    "\n",
    "# model.load_model('/kaggle/working/catboost_model.cbm')\n",
    "\n",
    "# 모델 학습\n",
    "model.fit(X=train_pool, eval_set=valid_pool, early_stopping_rounds=200)\n",
    "\n",
    "# 예측 및 성능 평가 (Validation set)\n",
    "y_pred = model.predict(valid_pool)\n",
    "y_pred_prob = model.predict_proba(valid_pool)[:, 1]  # 예측 확률\n",
    "\n",
    "# 성능 지표 계산\n",
    "accuracy_all = accuracy_score(y_val, y_pred)\n",
    "recall = recall_score(y_val, y_pred)\n",
    "precision = precision_score(y_val, y_pred)\n",
    "f1 = f1_score(y_val, y_pred)\n",
    "auc = roc_auc_score(y_val, y_pred_prob)\n",
    "\n",
    "# 성능 지표 출력\n",
    "print(f'Accuracy: {accuracy_all:.4f}')\n",
    "print(f'Recall: {recall:.4f}')\n",
    "print(f'Precision: {precision:.4f}')\n",
    "print(f'F1 Score: {f1:.4f}')\n",
    "print(f'AUC: {auc:.4f}')"
   ]
  },
  {
   "cell_type": "code",
   "execution_count": null,
   "id": "73c6e9f6",
   "metadata": {
    "papermill": {
     "duration": null,
     "end_time": null,
     "exception": null,
     "start_time": null,
     "status": "completed"
    },
    "tags": []
   },
   "outputs": [],
   "source": [
    "# 예측 결과 저장\n",
    "# test_pool = Pool(test, cat_features=X_train.columns.values)\n",
    "test_pool = Pool(test, cat_features=cat_features)\n",
    "submission['Response'] = model.predict_proba(test_pool)[:, 1]\n",
    "submission.to_csv('submission.csv', index=False)"
   ]
  }
 ],
 "metadata": {
  "kaggle": {
   "accelerator": "gpu",
   "dataSources": [
    {
     "databundleVersionId": 8930475,
     "sourceId": 73291,
     "sourceType": "competition"
    },
    {
     "datasetId": 4268036,
     "sourceId": 7349720,
     "sourceType": "datasetVersion"
    }
   ],
   "dockerImageVersionId": 30747,
   "isGpuEnabled": true,
   "isInternetEnabled": true,
   "language": "python",
   "sourceType": "notebook"
  },
  "kernelspec": {
   "display_name": "Python 3",
   "language": "python",
   "name": "python3"
  },
  "language_info": {
   "codemirror_mode": {
    "name": "ipython",
    "version": 3
   },
   "file_extension": ".py",
   "mimetype": "text/x-python",
   "name": "python",
   "nbconvert_exporter": "python",
   "pygments_lexer": "ipython3",
   "version": "3.10.13"
  },
  "papermill": {
   "default_parameters": {},
   "duration": 1941.111229,
   "end_time": "2024-07-31T23:38:58.029939",
   "environment_variables": {},
   "exception": null,
   "input_path": "__notebook__.ipynb",
   "output_path": "__notebook__.ipynb",
   "parameters": {},
   "start_time": "2024-07-31T23:06:36.918710",
   "version": "2.5.0"
  }
 },
 "nbformat": 4,
 "nbformat_minor": 5
}
